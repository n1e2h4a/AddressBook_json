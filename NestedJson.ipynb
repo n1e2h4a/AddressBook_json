{
 "cells": [
  {
   "cell_type": "code",
   "execution_count": 4,
   "metadata": {},
   "outputs": [],
   "source": [
    "import json\n",
    "\n",
    "class AppConfiguration(object):\n",
    "    def __init__(self, data=None):\n",
    "        if data is None:\n",
    "            with open(\"cfg.json\") as fh:\n",
    "                data = json.loads(fh.read())\n",
    "        else:\n",
    "            data = dict(data)\n",
    "\n",
    "        for key, val in data.items():\n",
    "            setattr(self, key, self.compute_attr_value(val))\n",
    "\n",
    "    def compute_attr_value(self, value):\n",
    "        if type(value) is list:\n",
    "            return [self.compute_attr_value(x) for x in value]\n",
    "        elif type(value) is dict:\n",
    "            return AppConfiguration(value)\n",
    "        else:\n",
    "            return value\n",
    "instance = AppConfiguration()"
   ]
  },
  {
   "cell_type": "code",
   "execution_count": 5,
   "metadata": {},
   "outputs": [
    {
     "data": {
      "text/plain": [
       "1"
      ]
     },
     "execution_count": 5,
     "metadata": {},
     "output_type": "execute_result"
    }
   ],
   "source": [
    "instance.list[4].key"
   ]
  },
  {
   "cell_type": "code",
   "execution_count": 6,
   "metadata": {},
   "outputs": [
    {
     "data": {
      "text/plain": [
       "'value'"
      ]
     },
     "execution_count": 6,
     "metadata": {},
     "output_type": "execute_result"
    }
   ],
   "source": [
    "instance.key\n"
   ]
  },
  {
   "cell_type": "code",
   "execution_count": null,
   "metadata": {},
   "outputs": [],
   "source": []
  }
 ],
 "metadata": {
  "kernelspec": {
   "display_name": "Python 3",
   "language": "python",
   "name": "python3"
  },
  "language_info": {
   "codemirror_mode": {
    "name": "ipython",
    "version": 3
   },
   "file_extension": ".py",
   "mimetype": "text/x-python",
   "name": "python",
   "nbconvert_exporter": "python",
   "pygments_lexer": "ipython3",
   "version": "3.6.9"
  }
 },
 "nbformat": 4,
 "nbformat_minor": 4
}
